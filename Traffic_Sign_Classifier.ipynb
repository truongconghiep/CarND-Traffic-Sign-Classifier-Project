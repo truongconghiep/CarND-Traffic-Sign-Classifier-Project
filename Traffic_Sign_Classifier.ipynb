{
 "cells": [
  {
   "cell_type": "markdown",
   "metadata": {},
   "source": [
    "# Self-Driving Car Engineer Nanodegree\n",
    "\n",
    "## Deep Learning\n",
    "\n",
    "## Project: Build a Traffic Sign Recognition Classifier\n",
    "\n",
    "In this notebook, a template is provided for you to implement your functionality in stages, which is required to successfully complete this project. If additional code is required that cannot be included in the notebook, be sure that the Python code is successfully imported and included in your submission if necessary. \n",
    "\n",
    "> **Note**: Once you have completed all of the code implementations, you need to finalize your work by exporting the iPython Notebook as an HTML document. Before exporting the notebook to html, all of the code cells need to have been run so that reviewers can see the final implementation and output. You can then export the notebook by using the menu above and navigating to  \\n\",\n",
    "    \"**File -> Download as -> HTML (.html)**. Include the finished document along with this notebook as your submission. \n",
    "\n",
    "In addition to implementing code, there is a writeup to complete. The writeup should be completed in a separate file, which can be either a markdown file or a pdf document. There is a [write up template](https://github.com/udacity/CarND-Traffic-Sign-Classifier-Project/blob/master/writeup_template.md) that can be used to guide the writing process. Completing the code template and writeup template will cover all of the [rubric points](https://review.udacity.com/#!/rubrics/481/view) for this project.\n",
    "\n",
    "The [rubric](https://review.udacity.com/#!/rubrics/481/view) contains \"Stand Out Suggestions\" for enhancing the project beyond the minimum requirements. The stand out suggestions are optional. If you decide to pursue the \"stand out suggestions\", you can include the code in this Ipython notebook and also discuss the results in the writeup file.\n",
    "\n",
    "\n",
    ">**Note:** Code and Markdown cells can be executed using the **Shift + Enter** keyboard shortcut. In addition, Markdown cells can be edited by typically double-clicking the cell to enter edit mode."
   ]
  },
  {
   "cell_type": "markdown",
   "metadata": {},
   "source": [
    "## Helper functions\n",
    "\n",
    "> Following functions will be called as general purpose in more cells below"
   ]
  },
  {
   "cell_type": "code",
   "execution_count": 135,
   "metadata": {
    "code_folding": [
     41,
     42,
     52,
     68,
     181,
     197
    ]
   },
   "outputs": [],
   "source": [
    "import csv\n",
    "import pickle\n",
    "import datetime\n",
    "import matplotlib.pyplot as plt\n",
    "import cv2\n",
    "import numpy as np\n",
    "import tensorflow as tf\n",
    "import random\n",
    "import math\n",
    "import keras\n",
    "from scipy.misc import imread\n",
    "from sklearn.utils import shuffle\n",
    "from keras.preprocessing.image import ImageDataGenerator, array_to_img, img_to_array, load_img\n",
    "from keras import backend as K\n",
    "from beautifultable import BeautifulTable\n",
    "from tensorflow.contrib.layers import flatten\n",
    "K.set_image_dim_ordering('th')\n",
    "\n",
    "def Read_Data_From_Pickle(file_name):\n",
    "    \"\"\"\n",
    "        This function read data from a pickle\n",
    "            Input:\n",
    "                file_name: pickle file name\n",
    "            Return:\n",
    "                Sampes, lables\n",
    "    \"\"\"\n",
    "    with open(file_name, mode='rb') as f:\n",
    "        train = pickle.load(f)\n",
    "    return train['features'], train['labels']\n",
    "\n",
    "def Write_Data_To_Pickle(data, file_name):\n",
    "    \"\"\"\n",
    "        This function writes a data to pickle\n",
    "            Input:\n",
    "                data: data to write\n",
    "                file_name:\n",
    "    \"\"\"\n",
    "    pickle.dump( data, open( file_name, \"wb\" ) )\n",
    "\n",
    "def Read_Csv(file_name, column_idx , delimiter):\n",
    "    \"\"\"\n",
    "        This function reads a column from a csv file\n",
    "            input: \n",
    "                file_name: name of the csv file\n",
    "                column_idx: the index of the column to be read\n",
    "                delimiter: column delimiter symbol\n",
    "            return: a list of data\n",
    "    \"\"\"\n",
    "    data = []\n",
    "    with open(file_name, \"r\") as f:\n",
    "        reader = csv.reader(f, delimiter=delimiter)\n",
    "        for num,row in enumerate(reader):\n",
    "            if num >= 1:\n",
    "                data.append(row[column_idx])\n",
    "    return data\n",
    "\n",
    "def Calculate_Time_Diff_Up_To_Now_in_second(start_time):\n",
    "    \"\"\"\n",
    "        This function calculate a time difference between a time point in the pass and now\n",
    "            Input: \n",
    "                start_time: a time point in the pass\n",
    "            return time difference in seconds\n",
    "    \"\"\"\n",
    "    after  = datetime.datetime.now()\n",
    "    return math.floor(((after - start_time).seconds))\n",
    "\n",
    "def print_Table(header,data):\n",
    "    \"\"\"\n",
    "        plot a table of data with a given header\n",
    "            input param:\n",
    "                header: 1D list\n",
    "                data: 2D list\n",
    "    \"\"\" \n",
    "    table_data = []\n",
    "    number_rows = min(len(header),len(data))\n",
    "    table = BeautifulTable(max_width=123)\n",
    "    table.column_headers = header[0:number_rows:1]\n",
    "    table_data = data[0:number_rows]  \n",
    "    for n in range(len(table_data[0])):\n",
    "        table.append_row([row[n] for row in table_data])\n",
    "    print(table)\n",
    "\n",
    "def Plot_Images(images, title = None):\n",
    "    \"\"\"\n",
    "        This function plot an arbitrary number of images\n",
    "            input: \n",
    "                images: a numpy array of images\n",
    "                title: a title for the plot\n",
    "    \"\"\"\n",
    "    image_number = len(images)\n",
    "    fig, axs = plt.subplots(int(image_number / 5),5, figsize=(20, 4 * image_number/5))\n",
    "    fig.suptitle(title, fontsize=18)\n",
    "    axs = axs.ravel()    \n",
    "    for n in range(image_number):\n",
    "        axs[n].axis('off')\n",
    "        if images[n].shape[2] == 1:\n",
    "            axs[n].imshow(images[n].squeeze(), cmap='gray')\n",
    "        else:\n",
    "            axs[n].imshow(images[n])\n",
    "    plt.show() \n",
    "    \n",
    "def Plot_Curve(data, labels = None, title = None, xLabel = None, yLabel = None):\n",
    "    \"\"\"\n",
    "        This function plots a curve diagram of datas\n",
    "            Input: \n",
    "                data: a list of datas, where data[0] is on x-axis, the other elements are data on y-axis\n",
    "                labels: a list of labels of datas\n",
    "                title: tilte of the diagram\n",
    "                xLable: label on x\n",
    "                yLable: lable on y\n",
    "    \"\"\"\n",
    "    plt.figure(figsize=(10,5))\n",
    "    plt.ylabel(yLabel)\n",
    "    plt.xlabel(xLabel)\n",
    "    plt.title(title)\n",
    "    for i in range(1,len(data)):\n",
    "        plt.plot(data[0], data[i],label = labels[i - 1])\n",
    "    plt.legend()\n",
    "    plt.show()    \n",
    "    \n",
    "def Data_Visualisation(labels,class_name):\n",
    "    \"\"\"\n",
    "        This function visualizes a given data set\n",
    "            input:\n",
    "                labels: data set to be visualized\n",
    "                class_name: name of classes of the data set\n",
    "    \"\"\"\n",
    "    number_samples = []\n",
    "    table_Data = []\n",
    "    for i in range(len(labels)):\n",
    "        img = number_of_labels_per_class(labels[i])\n",
    "        number_samples.append(img)\n",
    "    header = [\"labels\", \"Training\", \"Test\", \"Validation\", \"Class name\" ]\n",
    "    # visualize data in a table\n",
    "    x = [i for i in range(len(class_name))]\n",
    "    table_Data.append(x)\n",
    "    table_Data = table_Data + number_samples\n",
    "    table_Data.append(class_name)\n",
    "    print_Table(header,table_Data)\n",
    "    # Barchart\n",
    "    width = 0.3\n",
    "    index = np.array(len(class_name))\n",
    "    plt.figure(figsize=(20,10))\n",
    "    plt.ylabel('number of samples')\n",
    "    plt.xlabel('labels')\n",
    "    plt.title('data sets')\n",
    "    x = np.array(x)\n",
    "    p0=plt.bar(x - width, number_samples[0], width = width, color='g', label = \"training\")\n",
    "    p1=plt.bar(x, number_samples[1], width = width, color='b', label = \"test\")\n",
    "    p2=plt.bar(x + width, number_samples[2], width = width, color='r', label = \"validation\")\n",
    "    plt.legend((p0[0], p1[0], p2[0]), ('train' , 'test', 'validation'))\n",
    "    plt.show()\n",
    "    \n",
    "def Get_and_crop_n_image_randomly(images, number_Signs, labels):\n",
    "    \"\"\"\n",
    "        This function extracts a number of images from a given image set\n",
    "            input:\n",
    "                images: a numpy array of images\n",
    "                number_Signs: number of images to extract\n",
    "                labels: labels of input image set\n",
    "            return: a list of images\n",
    "    \"\"\"\n",
    "    cropped_images = []\n",
    "    chosen_labels = []\n",
    "    # Get n signs randomly from the test set\n",
    "    indices = random.sample(range(0,len(images)),number_Signs) \n",
    "    # Read and crop images\n",
    "    for n in range(0,number_Signs):\n",
    "        img = imread(images[indices[n]])\n",
    "        resized_image = cv2.resize(img,(32,32))\n",
    "        cropped_images.append(resized_image)\n",
    "        chosen_labels.append(labels[indices[n]])\n",
    "    return cropped_images, chosen_labels\n",
    "\n",
    "def Get_n_images_randomly(images, number_images, labels, convert_to_array = False):\n",
    "    chosen_images = []\n",
    "    chosen_labels = []\n",
    "    # Get n signs randomly from the test set\n",
    "    indices = random.sample(range(0,len(images)),number_images)\n",
    "    # Read and crop images\n",
    "    for n in range(0,number_images):\n",
    "        if convert_to_array == False:\n",
    "            chosen_images.append(images[indices[n]])\n",
    "        else: \n",
    "            chosen_images.append(img_to_array(images[indices[n]]))         \n",
    "        chosen_labels.append(labels[indices[n]])\n",
    "    return (chosen_images), (chosen_labels)\n",
    "    \n",
    "def number_of_class(labels):\n",
    "    \"\"\"\n",
    "        This function returns the number of classes in a data set\n",
    "    \"\"\"\n",
    "    return len(np.unique(labels))\n",
    "            \n",
    "def number_of_labels_per_class(labels):\n",
    "    \"\"\"\n",
    "        This function counts number of samples per class of a data set\n",
    "            input:\n",
    "                labels: labels of the data set\n",
    "            return: a list of number of samples of all classes\n",
    "    \"\"\"\n",
    "    number_samples = []\n",
    "    n_classes = number_of_class(labels)\n",
    "    for n in range (n_classes):\n",
    "        number_samples.append(np.count_nonzero(labels == n))\n",
    "    return number_samples\n",
    "\n",
    "\n",
    "def extract_data_Subset(X_train, Y_train, label):\n",
    "    \"\"\"\n",
    "        This function extracts all samples of a class in a data set\n",
    "            input: \n",
    "                X_train: training samples\n",
    "                Y_train: training labels\n",
    "                labels: label of the class, whose samples are being extracted\n",
    "            return: a numpy array of all sample of the class\n",
    "    \"\"\"\n",
    "    dataset_train = []\n",
    "    for i in range(0, len(Y_train)):\n",
    "        if Y_train[i] == label:\n",
    "            img = img_to_array(X_train[i])\n",
    "            dataset_train.append(img)\n",
    "    return np.array(dataset_train)\n",
    "    \n",
    "def GenerateNewSubsetData(origin_Data, number_Generated_img, batch_size):\n",
    "    \"\"\"\n",
    "        This function generates a new data subset from an input data\n",
    "            input:\n",
    "                origin_Data: input data as basic to generate new data\n",
    "                number_Generated_img: number of images to generate\n",
    "                batch_size: batch size\n",
    "            return a set of modified images, which have the same content as the one of the \n",
    "                    original data set\n",
    "    \"\"\"\n",
    "    generated_Images = []\n",
    "\n",
    "    datagen = ImageDataGenerator(rotation_range=20, width_shift_range=0.2, height_shift_range=0.2, \n",
    "                                 zoom_range=0.2,\n",
    "                                shear_range=0.2)\n",
    "    # fit parameters from data\n",
    "    datagen.fit(origin_Data)\n",
    "\n",
    "    X_batch = datagen.flow(origin_Data, batch_size=batch_size)\n",
    "    for i, new_images in enumerate(X_batch):\n",
    "        if i < number_Generated_img:\n",
    "            new_image = array_to_img(new_images[0])\n",
    "            new_image = np.array(new_image)\n",
    "            generated_Images.append(new_image)\n",
    "        else:\n",
    "            break\n",
    "    return generated_Images\n",
    "\n",
    "def augment_brightness_1_image(image):\n",
    "    \"\"\"\n",
    "        This function creates a new image by changing the brightness of the original image\n",
    "            input:\n",
    "                image: basic image to change brightness\n",
    "            return: the modified image\n",
    "    \"\"\"\n",
    "    image1 = cv2.cvtColor(image,cv2.COLOR_RGB2HSV)\n",
    "    image1 = np.array(image1, dtype = np.float64)\n",
    "    random_bright = 1.0 + np.random.uniform()\n",
    "    image1[:,:,2] = image1[:,:,2]*random_bright\n",
    "    image1[:,:,2][image1[:,:,2]>255]  = 255\n",
    "    image1 = np.array(image1, dtype = np.uint8)\n",
    "    image1 = cv2.cvtColor(image1,cv2.COLOR_HSV2RGB)\n",
    "    return image1\n",
    "\n",
    "def Image_Augmentation(Original_Dataset_Train, Original_Dataset_Labels):\n",
    "    \"\"\"\n",
    "        This function augments a data set of images. \n",
    "        It generates new images by different methods, than add the new images to the original data set.\n",
    "            input:\n",
    "                Original_Dataset_Train: original data samples\n",
    "                Original_Dataset_Labels: original data labels\n",
    "            return: an augmented data set\n",
    "    \"\"\"\n",
    "    result_Train = []\n",
    "    result_labels = []\n",
    "    # Brightness augmentation     \n",
    "    brightness_augment = []\n",
    "    for i in range(len(Original_Dataset_Train)):\n",
    "        img = augment_brightness_1_image(Original_Dataset_Train[i])\n",
    "        brightness_augment.append(img)\n",
    "    brightness_augment = np.array(brightness_augment)\n",
    "    # Other augmentation methods      \n",
    "    # calculate number of classes\n",
    "    n_class = number_of_class(Original_Dataset_Labels)\n",
    "    # calculate number of samples per labels\n",
    "    number_samples_per_class = number_of_labels_per_class(Original_Dataset_Labels)\n",
    "    # calculate maximun number samples per a label\n",
    "    max_sample_num = max(number_samples_per_class)\n",
    "    #iterate over all labels\n",
    "    for label in range(0,n_class):\n",
    "        generated_labels = []\n",
    "        extracted_Train = extract_data_Subset(brightness_augment, Original_Dataset_Labels, label)\n",
    "        number_of_new_images = int((max_sample_num - number_samples_per_class[label]))\n",
    "        if number_of_new_images > 0:\n",
    "            generated_Train = GenerateNewSubsetData(extracted_Train, number_of_new_images, number_samples_per_class[label])\n",
    "            generated_labels = [label] * number_of_new_images\n",
    "            result_Train = result_Train + generated_Train\n",
    "            result_labels = result_labels + generated_labels\n",
    "    # concatenate the generated data to the original data\n",
    "    result_Train = np.concatenate((Original_Dataset_Train,np.array(result_Train)), axis=0)\n",
    "    result_labels = np.concatenate((Original_Dataset_Labels,np.array(result_labels)), axis=0)\n",
    "    return shuffle(result_Train, result_labels)\n",
    "\n",
    "def Convert_Data_To_GrayScale(data):\n",
    "    \"\"\"\n",
    "        This function converts an image data set in grayscale\n",
    "            input: \n",
    "                data: input data set\n",
    "            return: a numpy array of grayscale images\n",
    "    \"\"\"\n",
    "    return np.sum(data/3, axis=3, keepdims=True)\n",
    "\n",
    "def Data_Normalization(data):\n",
    "    \"\"\"\n",
    "        This function normalises an image data set\n",
    "            input:\n",
    "                data: grayscale image data set\n",
    "            return normalised images\n",
    "    \"\"\"\n",
    "    return data/255 - 0.5"
   ]
  },
  {
   "cell_type": "markdown",
   "metadata": {},
   "source": [
    "---\n",
    "## Step 0: Load The Data"
   ]
  },
  {
   "cell_type": "code",
   "execution_count": 136,
   "metadata": {
    "collapsed": true
   },
   "outputs": [],
   "source": [
    "# read data from pickle files\n",
    "X_train, y_train = Read_Data_From_Pickle('train.p')\n",
    "X_valid, y_valid = Read_Data_From_Pickle('valid.p')\n",
    "X_test, y_test = Read_Data_From_Pickle('test.p')"
   ]
  },
  {
   "cell_type": "markdown",
   "metadata": {},
   "source": [
    "---\n",
    "\n",
    "## Step 1: Dataset Summary & Exploration\n",
    "\n",
    "The pickled data is a dictionary with 4 key/value pairs:\n",
    "\n",
    "- `'features'` is a 4D array containing raw pixel data of the traffic sign images, (num examples, width, height, channels).\n",
    "- `'labels'` is a 1D array containing the label/class id of the traffic sign. The file `signnames.csv` contains id -> name mappings for each id.\n",
    "- `'sizes'` is a list containing tuples, (width, height) representing the original width and height the image.\n",
    "- `'coords'` is a list containing tuples, (x1, y1, x2, y2) representing coordinates of a bounding box around the sign in the image. **THESE COORDINATES ASSUME THE ORIGINAL IMAGE. THE PICKLED DATA CONTAINS RESIZED VERSIONS (32 by 32) OF THESE IMAGES**\n",
    "\n",
    "Complete the basic data summary below. Use python, numpy and/or pandas methods to calculate the data summary rather than hard coding the results. For example, the [pandas shape method](http://pandas.pydata.org/pandas-docs/stable/generated/pandas.DataFrame.shape.html) might be useful for calculating some of the summary results. "
   ]
  },
  {
   "cell_type": "markdown",
   "metadata": {},
   "source": [
    "### Provide a Basic Summary of the Data Set Using Python, Numpy and/or Pandas"
   ]
  },
  {
   "cell_type": "code",
   "execution_count": 137,
   "metadata": {},
   "outputs": [
    {
     "name": "stdout",
     "output_type": "stream",
     "text": [
      "Number of training examples = 34799\n",
      "Number of testing examples = 12630\n",
      "Number of validation examples = 4410\n",
      "Image data shape = (32, 32, 3)\n",
      "Number of classes = 43\n"
     ]
    }
   ],
   "source": [
    "import numpy as np\n",
    "### Replace each question mark with the appropriate value. \n",
    "### Use python, pandas or numpy methods rather than hard coding the results\n",
    "\n",
    "# TODO: Number of training examples\n",
    "n_train = len(X_train)\n",
    "\n",
    "# TODO: Number of validation examples\n",
    "n_validation = len(X_valid)\n",
    "\n",
    "# TODO: Number of testing examples.\n",
    "n_test = len(X_test)\n",
    "\n",
    "# TODO: What's the shape of an traffic sign image?\n",
    "image_shape = X_train[0].shape\n",
    "\n",
    "# TODO: How many unique classes/labels there are in the dataset.\n",
    "n_classes = len(np.unique(y_train))\n",
    "\n",
    "print(\"Number of training examples =\", n_train)\n",
    "print(\"Number of testing examples =\", n_test)\n",
    "print(\"Number of validation examples =\", n_validation)\n",
    "print(\"Image data shape =\", image_shape)\n",
    "print(\"Number of classes =\", n_classes)"
   ]
  },
  {
   "cell_type": "markdown",
   "metadata": {},
   "source": [
    "### Include an exploratory visualization of the dataset"
   ]
  },
  {
   "cell_type": "markdown",
   "metadata": {},
   "source": [
    "Visualize the German Traffic Signs Dataset using the pickled file(s). This is open ended, suggestions include: plotting traffic sign images, plotting the count of each sign, etc. \n",
    "\n",
    "The [Matplotlib](http://matplotlib.org/) [examples](http://matplotlib.org/examples/index.html) and [gallery](http://matplotlib.org/gallery.html) pages are a great resource for doing visualizations in Python.\n",
    "\n",
    "**NOTE:** It's recommended you start with something simple first. If you wish to do more, come back to it after you've completed the rest of the sections. It can be interesting to look at the distribution of classes in the training, validation and test set. Is the distribution the same? Are there more examples of some classes than others?"
   ]
  },
  {
   "cell_type": "code",
   "execution_count": 138,
   "metadata": {},
   "outputs": [
    {
     "name": "stdout",
     "output_type": "stream",
     "text": [
      "+--------+----------+------+------------+---------------------------------------------------------------------------------+\n",
      "| labels | Training | Test | Validation |                                   Class name                                    |\n",
      "+--------+----------+------+------------+---------------------------------------------------------------------------------+\n",
      "|   0    |   180    |  60  |     30     |                              Speed limit (20km/h)                               |\n",
      "+--------+----------+------+------------+---------------------------------------------------------------------------------+\n",
      "|   1    |   1980   | 720  |    240     |                              Speed limit (30km/h)                               |\n",
      "+--------+----------+------+------------+---------------------------------------------------------------------------------+\n",
      "|   2    |   2010   | 750  |    240     |                              Speed limit (50km/h)                               |\n",
      "+--------+----------+------+------------+---------------------------------------------------------------------------------+\n",
      "|   3    |   1260   | 450  |    150     |                              Speed limit (60km/h)                               |\n",
      "+--------+----------+------+------------+---------------------------------------------------------------------------------+\n",
      "|   4    |   1770   | 660  |    210     |                              Speed limit (70km/h)                               |\n",
      "+--------+----------+------+------------+---------------------------------------------------------------------------------+\n",
      "|   5    |   1650   | 630  |    210     |                              Speed limit (80km/h)                               |\n",
      "+--------+----------+------+------------+---------------------------------------------------------------------------------+\n",
      "|   6    |   360    | 150  |     60     |                           End of speed limit (80km/h)                           |\n",
      "+--------+----------+------+------------+---------------------------------------------------------------------------------+\n",
      "|   7    |   1290   | 450  |    150     |                              Speed limit (100km/h)                              |\n",
      "+--------+----------+------+------------+---------------------------------------------------------------------------------+\n",
      "|   8    |   1260   | 450  |    150     |                              Speed limit (120km/h)                              |\n",
      "+--------+----------+------+------------+---------------------------------------------------------------------------------+\n",
      "|   9    |   1320   | 480  |    150     |                                   No passing                                    |\n",
      "+--------+----------+------+------------+---------------------------------------------------------------------------------+\n",
      "|   10   |   1800   | 660  |    210     |                  No passing for vehicles over 3.5 metric tons                   |\n",
      "+--------+----------+------+------------+---------------------------------------------------------------------------------+\n",
      "|   11   |   1170   | 420  |    150     |                      Right-of-way at the next intersection                      |\n",
      "+--------+----------+------+------------+---------------------------------------------------------------------------------+\n",
      "|   12   |   1890   | 690  |    210     |                                  Priority road                                  |\n",
      "+--------+----------+------+------------+---------------------------------------------------------------------------------+\n",
      "|   13   |   1920   | 720  |    240     |                                      Yield                                      |\n",
      "+--------+----------+------+------------+---------------------------------------------------------------------------------+\n",
      "|   14   |   690    | 270  |     90     |                                      Stop                                       |\n",
      "+--------+----------+------+------------+---------------------------------------------------------------------------------+\n",
      "|   15   |   540    | 210  |     90     |                                   No vehicles                                   |\n",
      "+--------+----------+------+------------+---------------------------------------------------------------------------------+\n",
      "|   16   |   360    | 150  |     60     |                    Vehicles over 3.5 metric tons prohibited                     |\n",
      "+--------+----------+------+------------+---------------------------------------------------------------------------------+\n",
      "|   17   |   990    | 360  |    120     |                                    No entry                                     |\n",
      "+--------+----------+------+------------+---------------------------------------------------------------------------------+\n",
      "|   18   |   1080   | 390  |    120     |                                 General caution                                 |\n",
      "+--------+----------+------+------------+---------------------------------------------------------------------------------+\n",
      "|   19   |   180    |  60  |     30     |                           Dangerous curve to the left                           |\n",
      "+--------+----------+------+------------+---------------------------------------------------------------------------------+\n",
      "|   20   |   300    |  90  |     60     |                          Dangerous curve to the right                           |\n",
      "+--------+----------+------+------------+---------------------------------------------------------------------------------+\n",
      "|   21   |   270    |  90  |     60     |                                  Double curve                                   |\n",
      "+--------+----------+------+------------+---------------------------------------------------------------------------------+\n",
      "|   22   |   330    | 120  |     60     |                                   Bumpy road                                    |\n",
      "+--------+----------+------+------------+---------------------------------------------------------------------------------+\n",
      "|   23   |   450    | 150  |     60     |                                  Slippery road                                  |\n",
      "+--------+----------+------+------------+---------------------------------------------------------------------------------+\n",
      "|   24   |   240    |  90  |     30     |                            Road narrows on the right                            |\n",
      "+--------+----------+------+------------+---------------------------------------------------------------------------------+\n",
      "|   25   |   1350   | 480  |    150     |                                    Road work                                    |\n",
      "+--------+----------+------+------------+---------------------------------------------------------------------------------+\n",
      "|   26   |   540    | 180  |     60     |                                 Traffic signals                                 |\n",
      "+--------+----------+------+------------+---------------------------------------------------------------------------------+\n",
      "|   27   |   210    |  60  |     30     |                                   Pedestrians                                   |\n",
      "+--------+----------+------+------------+---------------------------------------------------------------------------------+\n",
      "|   28   |   480    | 150  |     60     |                                Children crossing                                |\n",
      "+--------+----------+------+------------+---------------------------------------------------------------------------------+\n",
      "|   29   |   240    |  90  |     30     |                                Bicycles crossing                                |\n",
      "+--------+----------+------+------------+---------------------------------------------------------------------------------+\n",
      "|   30   |   390    | 150  |     60     |                               Beware of ice/snow                                |\n",
      "+--------+----------+------+------------+---------------------------------------------------------------------------------+\n",
      "|   31   |   690    | 270  |     90     |                              Wild animals crossing                              |\n",
      "+--------+----------+------+------------+---------------------------------------------------------------------------------+\n",
      "|   32   |   210    |  60  |     30     |                       End of all speed and passing limits                       |\n",
      "+--------+----------+------+------------+---------------------------------------------------------------------------------+\n",
      "|   33   |   599    | 210  |     90     |                                Turn right ahead                                 |\n",
      "+--------+----------+------+------------+---------------------------------------------------------------------------------+\n",
      "|   34   |   360    | 120  |     60     |                                 Turn left ahead                                 |\n",
      "+--------+----------+------+------------+---------------------------------------------------------------------------------+\n",
      "|   35   |   1080   | 390  |    120     |                                   Ahead only                                    |\n",
      "+--------+----------+------+------------+---------------------------------------------------------------------------------+\n",
      "|   36   |   330    | 120  |     60     |                              Go straight or right                               |\n",
      "+--------+----------+------+------------+---------------------------------------------------------------------------------+\n",
      "|   37   |   180    |  60  |     30     |                               Go straight or left                               |\n",
      "+--------+----------+------+------------+---------------------------------------------------------------------------------+\n",
      "|   38   |   1860   | 690  |    210     |                                   Keep right                                    |\n",
      "+--------+----------+------+------------+---------------------------------------------------------------------------------+\n",
      "|   39   |   270    |  90  |     30     |                                    Keep left                                    |\n",
      "+--------+----------+------+------------+---------------------------------------------------------------------------------+\n",
      "|   40   |   300    |  90  |     60     |                              Roundabout mandatory                               |\n",
      "+--------+----------+------+------------+---------------------------------------------------------------------------------+\n",
      "|   41   |   210    |  60  |     30     |                                End of no passing                                |\n",
      "+--------+----------+------+------------+---------------------------------------------------------------------------------+\n",
      "|   42   |   210    |  90  |     30     |               End of no passing by vehicles over 3.5 metric tons                |\n",
      "+--------+----------+------+------------+---------------------------------------------------------------------------------+\n"
     ]
    },
    {
     "data": {
      "image/png": "[encoded data removed]",
      "text/plain": [
       "<matplotlib.figure.Figure at 0x1b9c765ed30>"
      ]
     },
     "metadata": {},
     "output_type": "display_data"
    }
   ],
   "source": [
    "# Read csv data      \n",
    "SignName_SvcFileName = './signnames.csv'\n",
    "sign_names = Read_Csv(SignName_SvcFileName, 1, ',')\n",
    "# visualize the original data set\n",
    "Data_Visualisation([y_train,y_test,y_valid], sign_names)"
   ]
  },
  {
   "cell_type": "markdown",
   "metadata": {},
   "source": [
    "----\n",
    "\n",
    "## Step 2: Design and Test a Model Architecture\n",
    "\n",
    "Design and implement a deep learning model that learns to recognize traffic signs. Train and test your model on the [German Traffic Sign Dataset](http://benchmark.ini.rub.de/?section=gtsrb&subsection=dataset).\n",
    "\n",
    "The LeNet-5 implementation shown in the [classroom](https://classroom.udacity.com/nanodegrees/nd013/parts/fbf77062-5703-404e-b60c-95b78b2f3f9e/modules/6df7ae49-c61c-4bb2-a23e-6527e69209ec/lessons/601ae704-1035-4287-8b11-e2c2716217ad/concepts/d4aca031-508f-4e0b-b493-e7b706120f81) at the end of the CNN lesson is a solid starting point. You'll have to change the number of classes and possibly the preprocessing, but aside from that it's plug and play! \n",
    "\n",
    "With the LeNet-5 solution from the lecture, you should expect a validation set accuracy of about 0.89. To meet specifications, the validation set accuracy will need to be at least 0.93. It is possible to get an even higher accuracy, but 0.93 is the minimum for a successful project submission. \n",
    "\n",
    "There are various aspects to consider when thinking about this problem:\n",
    "\n",
    "- Neural network architecture (is the network over or underfitting?)\n",
    "- Play around preprocessing techniques (normalization, rgb to grayscale, etc)\n",
    "- Number of examples per label (some have more than others).\n",
    "- Generate fake data.\n",
    "\n",
    "Here is an example of a [published baseline model on this problem](http://yann.lecun.com/exdb/publis/pdf/sermanet-ijcnn-11.pdf). It's not required to be familiar with the approach used in the paper but, it's good practice to try to read papers like these."
   ]
  },
  {
   "cell_type": "markdown",
   "metadata": {},
   "source": [
    "### Pre-process the Data Set (normalization, grayscale, etc.)"
   ]
  },
  {
   "cell_type": "markdown",
   "metadata": {},
   "source": [
    "Minimally, the image data should be normalized so that the data has mean zero and equal variance. For image data, `(pixel - 128)/ 128` is a quick way to approximately normalize the data and can be used in this project. \n",
    "\n",
    "Other pre-processing steps are optional. You can try different techniques to see if it improves performance. \n",
    "\n",
    "Use the code cell (or multiple code cells, if necessary) to implement the first step of your project.\n",
    "\n",
    "##### Pre-processing steps:\n",
    "* Image augmentation\n",
    "    * Brightness augmentation\n",
    "    * Random augmentation with difference methods (e.g. transforming, sheering, rotating, etc.)\n",
    "    * Shuffle data\n",
    "* Convert data set to grayscale\n",
    "* Data normalization"
   ]
  },
  {
   "cell_type": "markdown",
   "metadata": {},
   "source": [
    "###### Demostration of pre-processing techniques"
   ]
  },
  {
   "cell_type": "code",
   "execution_count": 139,
   "metadata": {},
   "outputs": [
    {
     "data": {
      "image/png": "[encoded data removed]",
      "text/plain": [
       "<matplotlib.figure.Figure at 0x1b9ccc57d68>"
      ]
     },
     "metadata": {},
     "output_type": "display_data"
    },
    {
     "data": {
      "image/png": "[encoded data removed]",
      "text/plain": [
       "<matplotlib.figure.Figure at 0x1b9c77840b8>"
      ]
     },
     "metadata": {},
     "output_type": "display_data"
    }
   ],
   "source": [
    "number_of_example_img = 5\n",
    "# example images\n",
    "example_images, example_labels = Get_n_images_randomly(X_train, number_of_example_img, y_train)\n",
    "Plot_Images((np.array(example_images)), 'Original images')\n",
    "preprocessed_images = []\n",
    "Brightness augmentation\n",
    "for image in example_images:\n",
    "    preprocessed_images.append(augment_brightness_1_image(image))\n",
    "Plot_Images(preprocessed_images, 'Brightness augmented images')\n",
    "generate images\n",
    "converted_img = []\n",
    "for img in example_images:\n",
    "    converted_img.append(img_to_array(img))\n",
    "preprocessed_images = np.array(GenerateNewSubsetData(np.array(converted_img), 10, 10))\n",
    "Plot_Images(preprocessed_images, 'Generated images')\n",
    "# Grayscale conversion\n",
    "preprocessed_images = Convert_Data_To_GrayScale(example_images)\n",
    "Plot_Images(preprocessed_images, 'Grayscaled images')\n",
    "# Normlisation\n",
    "preprocessed_images = Data_Normalization(preprocessed_images)\n",
    "Plot_Images(preprocessed_images, 'Normalized images')"
   ]
  },
  {
   "cell_type": "code",
   "execution_count": null,
   "metadata": {
    "code_folding": []
   },
   "outputs": [],
   "source": [
    "# augment the data set\n",
    "X_train, y_train = Image_Augmentation(X_train, y_train)\n",
    "X_valid, y_valid = Image_Augmentation(X_valid, y_valid)\n",
    "# Visualize the augmented data set\n",
    "Data_Visualisation([y_train, y_test, y_valid], sign_names)\n",
    "# Plot 5 images of the augmented data set\n",
    "Plot_Images(X_train[0:5], 'Augmented images')\n",
    "# convert the data set to grayscale\n",
    "X_train = Convert_Data_To_GrayScale(X_train)\n",
    "X_test = Convert_Data_To_GrayScale(X_test)\n",
    "X_valid = Convert_Data_To_GrayScale(X_valid)\n",
    "Plot_Images((X_train[0:5]), 'Gray images')\n",
    "# Normalize the grayscale data set\n",
    "X_train = Data_Normalization(X_train)\n",
    "X_test = Data_Normalization(X_test)\n",
    "X_valid = Data_Normalization(X_valid)\n",
    "Plot_Images(X_train[0:5], 'Normalised images')"
   ]
  },
  {
   "cell_type": "markdown",
   "metadata": {},
   "source": [
    "#### Save augmented data"
   ]
  },
  {
   "cell_type": "code",
   "execution_count": 110,
   "metadata": {
    "collapsed": true
   },
   "outputs": [],
   "source": [
    "Write_Data_To_Pickle({\"features\":X_train,\"labels\":y_train}, \"PreprocessedTrainData.p\")\n",
    "Write_Data_To_Pickle({\"features\":X_valid,\"labels\":y_valid}, \"PreprocessedValidationData.p\")\n",
    "Write_Data_To_Pickle({\"features\":X_test,\"labels\":y_test}, \"PreprocessedTestData.p\")"
   ]
  },
  {
   "cell_type": "code",
   "execution_count": 146,
   "metadata": {
    "collapsed": true
   },
   "outputs": [],
   "source": [
    "X_train, y_train = Read_Data_From_Pickle('PreprocessedTrainData.p')\n",
    "X_valid, y_valid = Read_Data_From_Pickle('PreprocessedValidationData.p')\n",
    "X_test, y_test = Read_Data_From_Pickle('PreprocessedTestData.p')"
   ]
  },
  {
   "cell_type": "markdown",
   "metadata": {},
   "source": [
    "### Model Architecture"
   ]
  },
  {
   "cell_type": "markdown",
   "metadata": {},
   "source": [
    "#### Parameters"
   ]
  },
  {
   "cell_type": "code",
   "execution_count": 155,
   "metadata": {
    "collapsed": true
   },
   "outputs": [],
   "source": [
    "EPOCHS = 30\n",
    "BATCH_SIZE = 128\n",
    "mu = 0\n",
    "sigma = 0.1\n",
    "number_ouput_class = 43\n",
    "number_channels = 1"
   ]
  },
  {
   "cell_type": "markdown",
   "metadata": {},
   "source": [
    "#### Architecture"
   ]
  },
  {
   "cell_type": "code",
   "execution_count": 125,
   "metadata": {
    "collapsed": true
   },
   "outputs": [],
   "source": [
    "def LeNet(x, mu, sigma, number_channels, number_ouput_class):    \n",
    "    \n",
    "    # Layer 1: Convolutional. Input = 32x32xnumber_channels. Output = 28x28x6.\n",
    "    W1 = tf.Variable(tf.truncated_normal(shape=(5, 5, number_channels, 6), mean = mu, stddev = sigma))\n",
    "    x = tf.nn.conv2d(x, W1, strides=[1, 1, 1, 1], padding='VALID')\n",
    "    b1 = tf.Variable(tf.zeros(6))\n",
    "    x = tf.nn.bias_add(x, b1)\n",
    "\n",
    "    # Activation.\n",
    "    x = tf.nn.relu(x)\n",
    "    \n",
    "    # Pooling. Input = 28x28x6. Output = 14x14x6.\n",
    "    x = tf.nn.max_pool(x, ksize=[1, 2, 2, 1], strides=[1, 2, 2, 1], padding='VALID')\n",
    "    layer1 = x\n",
    "    \n",
    "    # Layer 2: Convolutional. Output = 10x10x16.\n",
    "    W2 = tf.Variable(tf.truncated_normal(shape=(5, 5, 6, 16), mean = mu, stddev = sigma))\n",
    "    x = tf.nn.conv2d(x, W2, strides=[1, 1, 1, 1], padding='VALID')\n",
    "    b2 = tf.Variable(tf.zeros(16))\n",
    "    x = tf.nn.bias_add(x, b2)\n",
    "                     \n",
    "    # Activation.\n",
    "    x = tf.nn.relu(x)\n",
    "\n",
    "    # TODO: Pooling. Input = 10x10x16. Output = 5x5x16.\n",
    "    x = tf.nn.max_pool(x, ksize=[1, 2, 2, 1], strides=[1, 2, 2, 1], padding='VALID')\n",
    "    layer2 = x\n",
    "    \n",
    "    # Layer 3: Convolutional. Output = 1x1x400.\n",
    "    W3 = tf.Variable(tf.truncated_normal(shape=(5, 5, 16, 400), mean = mu, stddev = sigma))\n",
    "    x = tf.nn.conv2d(x, W3, strides=[1, 1, 1, 1], padding='VALID')\n",
    "    b3 = tf.Variable(tf.zeros(400))\n",
    "    x = tf.nn.bias_add(x, b3)\n",
    "                     \n",
    "    # Activation.\n",
    "    x = tf.nn.relu(x)\n",
    "    layer3 = x\n",
    "\n",
    "    # Flatten. Input = 5x5x16. Output = 400.\n",
    "    layer2flat = flatten(layer2)\n",
    "    \n",
    "    # Flatten x. Input = 1x1x400. Output = 400.\n",
    "    xflat = flatten(x)\n",
    "    \n",
    "    # Concat layer2flat and x. Input = 400 + 400. Output = 800\n",
    "    x = tf.concat([xflat, layer2flat], 1)\n",
    "    \n",
    "    # Dropout\n",
    "    x = tf.nn.dropout(x, keep_prob)\n",
    "    \n",
    "    # Layer 4: Fully Connected. Input = 800. Output = number_ouput_class.\n",
    "    W4 = tf.Variable(tf.truncated_normal(shape=(800, number_ouput_class), mean = mu, stddev = sigma))\n",
    "    b4 = tf.Variable(tf.zeros(number_ouput_class))    \n",
    "    logits = tf.add(tf.matmul(x, W4), b4)\n",
    "    \n",
    "    return logits"
   ]
  },
  {
   "cell_type": "code",
   "execution_count": 126,
   "metadata": {
    "collapsed": true
   },
   "outputs": [],
   "source": [
    "def conv2d(x, W, b, strides=1):\n",
    "    x = tf.nn.conv2d(x, W, strides=[1, strides, strides, 1], padding='VALID')\n",
    "    x = tf.nn.bias_add(x, b)\n",
    "    print(x.shape)\n",
    "    return tf.nn.relu(x)\n",
    "\n",
    "def LeNet1(x, mu, sigma, number_channels, number_ouput_class):\n",
    "    \n",
    "    W_one = tf.Variable(tf.truncated_normal(shape=(5, 5, number_channels, 6), mean = mu, stddev = sigma))\n",
    "    b_one = tf.Variable(tf.zeros(6))\n",
    "    layer_one = conv2d(x, W_one, b_one, 1)\n",
    "    \n",
    "    layer_one = tf.nn.max_pool(layer_one, ksize=[1, 2, 2, 1], strides=[1, 2, 2, 1], padding='VALID')\n",
    "    print(layer_one.shape)\n",
    "    print()\n",
    "    \n",
    "    W_two = tf.Variable(tf.truncated_normal(shape=(5, 5, 6, 16), mean = mu, stddev = sigma))\n",
    "    b_two = tf.Variable(tf.zeros(16))\n",
    "    layer_two = conv2d(layer_one, W_two, b_two, 1)\n",
    "\n",
    "    layer_two = tf.nn.max_pool(layer_two, ksize=[1, 2, 2, 1], strides=[1, 2, 2, 1], padding='VALID')\n",
    "    print(layer_two.shape)\n",
    "    print()\n",
    "    \n",
    "    W_two_a = tf.Variable(tf.truncated_normal(shape=(5, 5, 16, 412), mean = mu, stddev = sigma))\n",
    "    b_two_a = tf.Variable(tf.zeros(412))\n",
    "    layer_two_a = conv2d(layer_two, W_two_a, b_two_a, 1)\n",
    "\n",
    "    #layer_two_a = tf.nn.max_pool(layer_two_a, ksize=[1, 2, 2, 1], strides=[1, 2, 2, 1], padding='VALID')\n",
    "    print(layer_two_a.shape)\n",
    "    print()    \n",
    "    \n",
    "    flat = flatten(layer_two_a)\n",
    "\n",
    "    W_three = tf.Variable(tf.truncated_normal(shape=(412, 122), mean = mu, stddev = sigma))\n",
    "    b_three = tf.Variable(tf.zeros(122))\n",
    "    layer_three = tf.nn.relu(tf.nn.bias_add(tf.matmul(flat, W_three), b_three))\n",
    "    layer_three = tf.nn.dropout(layer_three, keep_prob)\n",
    "    \n",
    "    W_four = tf.Variable(tf.truncated_normal(shape=(122, 84), mean = mu, stddev = sigma))\n",
    "    b_four = tf.Variable(tf.zeros(84))\n",
    "    layer_four = tf.nn.relu(tf.nn.bias_add(tf.matmul(layer_three, W_four), b_four))\n",
    "    layer_four = tf.nn.dropout(layer_four, keep_prob)\n",
    "    \n",
    "    W_five = tf.Variable(tf.truncated_normal(shape=(84, number_ouput_class), mean = mu, stddev = sigma))\n",
    "    b_five = tf.Variable(tf.zeros(number_ouput_class))\n",
    "    layer_five = tf.nn.bias_add(tf.matmul(layer_four, W_five), b_five)\n",
    "    \n",
    "    return layer_five"
   ]
  },
  {
   "cell_type": "markdown",
   "metadata": {},
   "source": [
    "#### Features and Labels"
   ]
  },
  {
   "cell_type": "code",
   "execution_count": 127,
   "metadata": {
    "collapsed": true
   },
   "outputs": [],
   "source": [
    "x = tf.placeholder(tf.float32, (None, 32, 32, number_channels))\n",
    "y = tf.placeholder(tf.int32, (None))\n",
    "keep_prob = tf.placeholder(tf.float32) # probability to keep units\n",
    "one_hot_y = tf.one_hot(y, number_ouput_class)"
   ]
  },
  {
   "cell_type": "markdown",
   "metadata": {},
   "source": [
    "### Train, Validate and Test the Model"
   ]
  },
  {
   "cell_type": "markdown",
   "metadata": {},
   "source": [
    "A validation set can be used to assess how well the model is performing. A low accuracy on the training and validation\n",
    "sets imply underfitting. A high accuracy on the training set but low accuracy on the validation set implies overfitting."
   ]
  },
  {
   "cell_type": "markdown",
   "metadata": {
    "collapsed": true
   },
   "source": [
    "#### Training pipeline"
   ]
  },
  {
   "cell_type": "code",
   "execution_count": 128,
   "metadata": {
    "collapsed": true
   },
   "outputs": [],
   "source": [
    "rate = 0.0009\n",
    "\n",
    "logits = LeNet(x,mu,sigma, number_channels, number_ouput_class)\n",
    "prediction = tf.argmax(logits, 1)\n",
    "cross_entropy = tf.nn.softmax_cross_entropy_with_logits(labels=one_hot_y, logits=logits)\n",
    "loss_operation = tf.reduce_mean(cross_entropy)\n",
    "optimizer = tf.train.AdamOptimizer(learning_rate = rate)\n",
    "training_operation = optimizer.minimize(loss_operation)"
   ]
  },
  {
   "cell_type": "code",
   "execution_count": 129,
   "metadata": {
    "collapsed": true
   },
   "outputs": [],
   "source": [
    "correct_prediction = tf.equal(tf.argmax(logits, 1), tf.argmax(one_hot_y, 1))\n",
    "accuracy_operation = tf.reduce_mean(tf.cast(correct_prediction, tf.float32))\n",
    "saver = tf.train.Saver()\n",
    "\n",
    "def evaluate(X_data, y_data):\n",
    "    num_examples = len(X_data)\n",
    "    total_accuracy = 0\n",
    "    sess = tf.get_default_session()\n",
    "    for offset in range(0, num_examples, BATCH_SIZE):\n",
    "        batch_x, batch_y = X_data[offset:offset+BATCH_SIZE], y_data[offset:offset+BATCH_SIZE]\n",
    "        accuracy = sess.run(accuracy_operation, feed_dict={x: batch_x, y: batch_y, keep_prob: 1.0})\n",
    "        total_accuracy += (accuracy * len(batch_x))\n",
    "    return total_accuracy / num_examples"
   ]
  },
  {
   "cell_type": "markdown",
   "metadata": {},
   "source": [
    "#### Train the model"
   ]
  },
  {
   "cell_type": "code",
   "execution_count": 156,
   "metadata": {},
   "outputs": [
    {
     "name": "stdout",
     "output_type": "stream",
     "text": [
      "Training...\n",
      "\n",
      "EPOCH 1 ...Validation accuracy = 0.860...training time: 7 s\n",
      "\n",
      "EPOCH 2 ...Validation accuracy = 0.908...training time: 6 s\n",
      "\n",
      "EPOCH 3 ...Validation accuracy = 0.922...training time: 6 s\n",
      "\n",
      "EPOCH 4 ...Validation accuracy = 0.920...training time: 6 s\n",
      "\n",
      "EPOCH 5 ...Validation accuracy = 0.931...training time: 6 s\n",
      "\n",
      "EPOCH 6 ...Validation accuracy = 0.918...training time: 6 s\n",
      "\n",
      "EPOCH 7 ...Validation accuracy = 0.935...training time: 6 s\n",
      "\n",
      "EPOCH 8 ...Validation accuracy = 0.934...training time: 7 s\n",
      "\n",
      "EPOCH 9 ...Validation accuracy = 0.932...training time: 7 s\n",
      "\n",
      "EPOCH 10 ...Validation accuracy = 0.940...training time: 7 s\n",
      "\n",
      "EPOCH 11 ...Validation accuracy = 0.937...training time: 7 s\n",
      "\n",
      "EPOCH 12 ...Validation accuracy = 0.941...training time: 7 s\n",
      "\n",
      "EPOCH 13 ...Validation accuracy = 0.943...training time: 6 s\n",
      "\n",
      "EPOCH 14 ...Validation accuracy = 0.939...training time: 6 s\n",
      "\n",
      "EPOCH 15 ...Validation accuracy = 0.941...training time: 6 s\n",
      "\n",
      "EPOCH 16 ...Validation accuracy = 0.943...training time: 7 s\n",
      "\n",
      "EPOCH 17 ...Validation accuracy = 0.941...training time: 6 s\n",
      "\n",
      "EPOCH 18 ...Validation accuracy = 0.950...training time: 6 s\n",
      "\n",
      "EPOCH 19 ...Validation accuracy = 0.945...training time: 6 s\n",
      "\n",
      "EPOCH 20 ...Validation accuracy = 0.944...training time: 6 s\n",
      "\n",
      "EPOCH 21 ...Validation accuracy = 0.925...training time: 6 s\n",
      "\n",
      "EPOCH 22 ...Validation accuracy = 0.941...training time: 6 s\n",
      "\n",
      "EPOCH 23 ...Validation accuracy = 0.946...training time: 6 s\n",
      "\n",
      "EPOCH 24 ...Validation accuracy = 0.945...training time: 6 s\n",
      "\n",
      "EPOCH 25 ...Validation accuracy = 0.939...training time: 6 s\n",
      "\n",
      "EPOCH 26 ...Validation accuracy = 0.937...training time: 6 s\n",
      "\n",
      "EPOCH 27 ...Validation accuracy = 0.944...training time: 6 s\n",
      "\n",
      "EPOCH 28 ...Validation accuracy = 0.935...training time: 6 s\n",
      "\n",
      "EPOCH 29 ...Validation accuracy = 0.947...training time: 6 s\n",
      "\n",
      "EPOCH 30 ...Validation accuracy = 0.946...training time: 6 s\n",
      "\n",
      "Model saved\n",
      "Training time:  219  seconds\n"
     ]
    },
    {
     "data": {
      "image/png": "[encoded data removed]",
      "text/plain": [
       "<matplotlib.figure.Figure at 0x1b0ba5e63c8>"
      ]
     },
     "metadata": {},
     "output_type": "display_data"
    }
   ],
   "source": [
    "before = datetime.datetime.now()\n",
    "\n",
    "with tf.Session() as sess:\n",
    "    sess.run(tf.global_variables_initializer())\n",
    "    num_examples = len(X_train)\n",
    "    \n",
    "    validation_accuracy_figure = []\n",
    "    \n",
    "    print(\"Training...\")\n",
    "    print()\n",
    "    for i in range(EPOCHS):\n",
    "        epoch_start_time = datetime.datetime.now()\n",
    "        X_train, y_train = shuffle(X_train, y_train)\n",
    "        for offset in range(0, num_examples, BATCH_SIZE):\n",
    "            end = offset + BATCH_SIZE\n",
    "            batch_x, batch_y = X_train[offset:end], y_train[offset:end]\n",
    "            sess.run(training_operation, feed_dict={x: batch_x, y: batch_y, keep_prob: 0.5})\n",
    "            \n",
    "        validation_accuracy = evaluate(X_valid, y_valid)\n",
    "        validation_accuracy_figure.append(validation_accuracy)\n",
    "        epoch_training_time = Calculate_Time_Diff_Up_To_Now_in_second(epoch_start_time)\n",
    "        print(\"EPOCH {} ...Validation accuracy = {:.3f}...training time: {} s\"\n",
    "              .format(i+1, validation_accuracy, epoch_training_time))\n",
    "        print()\n",
    "        \n",
    "    saver.save(sess, './lenet')\n",
    "    print(\"Model saved\")\n",
    "# Calculate the training time               \n",
    "print(\"Training time: \", Calculate_Time_Diff_Up_To_Now_in_second(before), \" seconds\")\n",
    "# Plot accuracies on a diagram\n",
    "plot_data = []\n",
    "plot_data.append([i for i in range (0,EPOCHS)])\n",
    "plot_data.append(validation_accuracy_figure)\n",
    "labels = ['Training accuracy', 'Validation accuracy']\n",
    "Plot_Curve(plot_data, labels, title = \"Accuracy\", xLabel = \"EPOCH\", yLabel = \"Accuracy\")"
   ]
  },
  {
   "cell_type": "markdown",
   "metadata": {},
   "source": [
    "#### Evaluate model"
   ]
  },
  {
   "cell_type": "code",
   "execution_count": 158,
   "metadata": {},
   "outputs": [
    {
     "name": "stdout",
     "output_type": "stream",
     "text": [
      "INFO:tensorflow:Restoring parameters from .\\lenet\n",
      "Test Accuracy = 0.947\n"
     ]
    }
   ],
   "source": [
    "with tf.Session() as sess:\n",
    "    saver.restore(sess, tf.train.latest_checkpoint('.'))\n",
    "\n",
    "    test_accuracy = evaluate(X_test, y_test)\n",
    "    print(\"Test Accuracy = {:.3f}\".format(test_accuracy))"
   ]
  },
  {
   "cell_type": "markdown",
   "metadata": {},
   "source": [
    "---\n",
    "\n",
    "## Step 3: Test a Model on New Images\n",
    "\n",
    "To give yourself more insight into how your model is working, download at least five pictures of German traffic signs from the web and use your model to predict the traffic sign type.\n",
    "\n",
    "You may find `signnames.csv` useful as it contains mappings from the class id (integer) to the actual sign name."
   ]
  },
  {
   "cell_type": "markdown",
   "metadata": {},
   "source": [
    "### Load and Output the Images"
   ]
  },
  {
   "cell_type": "code",
   "execution_count": 20,
   "metadata": {
    "collapsed": true
   },
   "outputs": [],
   "source": [
    "import glob  \n",
    "\n",
    "# Number of images to load\n",
    "number_Signs = 10\n",
    "\n",
    "# Read file names from germman traffic sign test set\n",
    "dirName ='./GTSRB/Final_Test/Images'\n",
    "# Read image file names\n",
    "images = glob.glob(dirName + '/*.ppm')\n",
    "# Read the corresponding labels\n",
    "SignName_SvcFileName = './GTSRB/Final_Test/GT-final_test.csv'\n",
    "sign_labels_in_test = Read_Csv(SignName_SvcFileName, 7, ';')\n",
    "# get randomly images from the data set\n",
    "read_images, read_labels = Get_and_crop_n_image_randomly(images, number_Signs, sign_labels_in_test)\n",
    "Plot_Images(read_images, 'Test images')\n",
    "# Convert the read images to grayscale\n",
    "image_gry = Convert_Data_To_GrayScale(np.array(read_images))"
   ]
  },
  {
   "cell_type": "markdown",
   "metadata": {},
   "source": [
    "### Predict the Sign Type for Each Image"
   ]
  },
  {
   "cell_type": "code",
   "execution_count": 19,
   "metadata": {},
   "outputs": [
    {
     "name": "stdout",
     "output_type": "stream",
     "text": [
      "INFO:tensorflow:Restoring parameters from .\\lenet\n",
      "+-------------+-----------------+----------------------------------------------+\n",
      "| Sign number | predicted label |                  annotation                  |\n",
      "+-------------+-----------------+----------------------------------------------+\n",
      "|      1      |       13        |                    Yield                     |\n",
      "+-------------+-----------------+----------------------------------------------+\n",
      "|      2      |       31        |            Wild animals crossing             |\n",
      "+-------------+-----------------+----------------------------------------------+\n",
      "|      3      |        9        |                  No passing                  |\n",
      "+-------------+-----------------+----------------------------------------------+\n",
      "|      4      |       23        |                Slippery road                 |\n",
      "+-------------+-----------------+----------------------------------------------+\n",
      "|      5      |        5        |             Speed limit (80km/h)             |\n",
      "+-------------+-----------------+----------------------------------------------+\n",
      "|      6      |        9        |                  No passing                  |\n",
      "+-------------+-----------------+----------------------------------------------+\n",
      "|      7      |       28        |              Children crossing               |\n",
      "+-------------+-----------------+----------------------------------------------+\n",
      "|      8      |       11        |    Right-of-way at the next intersection     |\n",
      "+-------------+-----------------+----------------------------------------------+\n",
      "|      9      |        2        |             Speed limit (50km/h)             |\n",
      "+-------------+-----------------+----------------------------------------------+\n",
      "|     10      |       30        |              Beware of ice/snow              |\n",
      "+-------------+-----------------+----------------------------------------------+\n"
     ]
    }
   ],
   "source": [
    "# predict the read images\n",
    "logit = []\n",
    "with tf.Session() as sess:\n",
    "    saver.restore(sess, tf.train.latest_checkpoint('.'))\n",
    "    logit = sess.run(prediction, feed_dict={x: image_gry, keep_prob: 1.0})\n",
    "    \n",
    "# visualise the read images and prediction results\n",
    "header = [\"Sign number\", \"predicted label\", \"annotation\"]\n",
    "sign_name = [sign_names[i] for i in logit]\n",
    "table_Data = []\n",
    "table_Data.extend([[i+1 for i in range(number_Signs)],logit,sign_name])\n",
    "print_Table(header,table_Data)"
   ]
  },
  {
   "cell_type": "markdown",
   "metadata": {},
   "source": [
    "### Analyze Performance"
   ]
  },
  {
   "cell_type": "code",
   "execution_count": 22,
   "metadata": {},
   "outputs": [
    {
     "name": "stdout",
     "output_type": "stream",
     "text": [
      "Total accuracy = 10.0 %\n"
     ]
    },
    {
     "ename": "NameError",
     "evalue": "name 'title' is not defined",
     "output_type": "error",
     "traceback": [
      "\u001b[1;31m---------------------------------------------------------------------------\u001b[0m",
      "\u001b[1;31mNameError\u001b[0m                                 Traceback (most recent call last)",
      "\u001b[1;32m<ipython-input-22-eb6500b15d49>\u001b[0m in \u001b[0;36m<module>\u001b[1;34m()\u001b[0m\n\u001b[0;32m     16\u001b[0m \u001b[0mtable_Data\u001b[0m \u001b[1;33m=\u001b[0m \u001b[1;33m[\u001b[0m\u001b[1;33m]\u001b[0m\u001b[1;33m\u001b[0m\u001b[0m\n\u001b[0;32m     17\u001b[0m \u001b[0mtable_Data\u001b[0m\u001b[1;33m.\u001b[0m\u001b[0mextend\u001b[0m\u001b[1;33m(\u001b[0m\u001b[1;33m[\u001b[0m\u001b[0mread_labels\u001b[0m\u001b[1;33m,\u001b[0m\u001b[0mlogit\u001b[0m\u001b[1;33m,\u001b[0m\u001b[0mresult\u001b[0m\u001b[1;33m]\u001b[0m\u001b[1;33m)\u001b[0m\u001b[1;33m\u001b[0m\u001b[0m\n\u001b[1;32m---> 18\u001b[1;33m \u001b[0mprint_Table\u001b[0m\u001b[1;33m(\u001b[0m\u001b[0mheader\u001b[0m\u001b[1;33m,\u001b[0m\u001b[0mtable_Data\u001b[0m\u001b[1;33m,\u001b[0m \u001b[0mtitle\u001b[0m\u001b[1;33m)\u001b[0m\u001b[1;33m\u001b[0m\u001b[0m\n\u001b[0m",
      "\u001b[1;31mNameError\u001b[0m: name 'title' is not defined"
     ]
    }
   ],
   "source": [
    "### Calculate the accuracy for these 5 new images. \n",
    "### For example, if the model predicted 1 out of 5 signs correctly, it's 20% accurate on these new images.\n",
    "    \n",
    "accuracy = 0.0\n",
    "result = []\n",
    "for n in range(number_Signs):\n",
    "    if logit[n] == int(read_labels[n]):\n",
    "        accuracy = accuracy + (100./number_Signs)\n",
    "        result.append(\"correct\")\n",
    "    else:\n",
    "        result.append(\"wrong\")\n",
    "\n",
    "print(\"Total accuracy = {} %\".format(accuracy))\n",
    "# visualize the accuracy with a table\n",
    "header = [\"expected label\", \"predicted label\", \"result\"]\n",
    "table_Data = []\n",
    "table_Data.extend([read_labels,logit,result])\n",
    "print_Table(header,table_Data, title)\n"
   ]
  },
  {
   "cell_type": "markdown",
   "metadata": {},
   "source": [
    "### Output Top 5 Softmax Probabilities For Each Image Found on the Web"
   ]
  },
  {
   "cell_type": "markdown",
   "metadata": {},
   "source": [
    "For each of the new images, print out the model's softmax probabilities to show the **certainty** of the model's predictions (limit the output to the top 5 probabilities for each image). [`tf.nn.top_k`](https://www.tensorflow.org/versions/r0.12/api_docs/python/nn.html#top_k) could prove helpful here. \n",
    "\n",
    "The example below demonstrates how tf.nn.top_k can be used to find the top k predictions for each image.\n",
    "\n",
    "`tf.nn.top_k` will return the values and indices (class ids) of the top k predictions. So if k=3, for each sign, it'll return the 3 largest probabilities (out of a possible 43) and the correspoding class ids.\n",
    "\n",
    "Take this numpy array as an example. The values in the array represent predictions. The array contains softmax probabilities for five candidate images with six possible classes. `tf.nn.top_k` is used to choose the three classes with the highest probability:\n",
    "\n",
    "```\n",
    "# (5, 6) array\n",
    "a = np.array([[ 0.24879643,  0.07032244,  0.12641572,  0.34763842,  0.07893497,\n",
    "         0.12789202],\n",
    "       [ 0.28086119,  0.27569815,  0.08594638,  0.0178669 ,  0.18063401,\n",
    "         0.15899337],\n",
    "       [ 0.26076848,  0.23664738,  0.08020603,  0.07001922,  0.1134371 ,\n",
    "         0.23892179],\n",
    "       [ 0.11943333,  0.29198961,  0.02605103,  0.26234032,  0.1351348 ,\n",
    "         0.16505091],\n",
    "       [ 0.09561176,  0.34396535,  0.0643941 ,  0.16240774,  0.24206137,\n",
    "         0.09155967]])\n",
    "```\n",
    "\n",
    "Running it through `sess.run(tf.nn.top_k(tf.constant(a), k=3))` produces:\n",
    "\n",
    "```\n",
    "TopKV2(values=array([[ 0.34763842,  0.24879643,  0.12789202],\n",
    "       [ 0.28086119,  0.27569815,  0.18063401],\n",
    "       [ 0.26076848,  0.23892179,  0.23664738],\n",
    "       [ 0.29198961,  0.26234032,  0.16505091],\n",
    "       [ 0.34396535,  0.24206137,  0.16240774]]), indices=array([[3, 0, 5],\n",
    "       [0, 1, 4],\n",
    "       [0, 5, 1],\n",
    "       [1, 3, 5],\n",
    "       [1, 4, 3]], dtype=int32))\n",
    "```\n",
    "\n",
    "Looking just at the first row we get `[ 0.34763842,  0.24879643,  0.12789202]`, you can confirm these are the 3 largest probabilities in `a`. You'll also notice `[3, 0, 5]` are the corresponding indices."
   ]
  },
  {
   "cell_type": "code",
   "execution_count": 1075,
   "metadata": {},
   "outputs": [
    {
     "name": "stdout",
     "output_type": "stream",
     "text": [
      "INFO:tensorflow:Restoring parameters from .\\lenet\n",
      "+----------+------------------------------------------------------+------------+\n",
      "| sign num |                softmax probabilities                 |  indices   |\n",
      "+----------+------------------------------------------------------+------------+\n",
      "|    1     |                 1.0 0.0 0.0 0.0 0.0                  | 7 0 1 2 3  |\n",
      "+----------+------------------------------------------------------+------------+\n",
      "|    2     |                 1.0 0.0 0.0 0.0 0.0                  | 2 0 1 3 4  |\n",
      "+----------+------------------------------------------------------+------------+\n",
      "|    3     |                 1.0 0.0 0.0 0.0 0.0                  | 8 0 1 2 3  |\n",
      "+----------+------------------------------------------------------+------------+\n",
      "|    4     |                 1.0 0.0 0.0 0.0 0.0                  | 12 0 1 2 3 |\n",
      "+----------+------------------------------------------------------+------------+\n",
      "|    5     |                 1.0 0.0 0.0 0.0 0.0                  | 5 0 1 2 3  |\n",
      "+----------+------------------------------------------------------+------------+\n",
      "|    6     |                 1.0 0.0 0.0 0.0 0.0                  | 38 0 1 2 3 |\n",
      "+----------+------------------------------------------------------+------------+\n",
      "|    7     |                 1.0 0.0 0.0 0.0 0.0                  | 5 0 1 2 3  |\n",
      "+----------+------------------------------------------------------+------------+\n",
      "|    8     |           0.5337544 0.46624553 0.0 0.0 0.0           | 4 8 0 1 2  |\n",
      "+----------+------------------------------------------------------+------------+\n",
      "|    9     |                 1.0 0.0 0.0 0.0 0.0                  | 33 0 1 2 3 |\n",
      "+----------+------------------------------------------------------+------------+\n",
      "|    10    |                 1.0 0.0 0.0 0.0 0.0                  | 22 0 1 2 3 |\n",
      "+----------+------------------------------------------------------+------------+\n"
     ]
    }
   ],
   "source": [
    "### Print out the top five softmax probabilities for the predictions on the German traffic sign images found on the web. \n",
    "### Feel free to use as many code cells as needed.\n",
    "\n",
    "with tf.Session() as sess:\n",
    "    saver.restore(sess, tf.train.latest_checkpoint('.'))\n",
    "    logit = sess.run(tf.nn.softmax(logits), feed_dict={x: cropped_images, keep_prob: 1.0})\n",
    "    TopKV,indices = sess.run(tf.nn.top_k(tf.constant(logit), k=5))\n",
    "\n",
    "TopKV_Str =[]\n",
    "Idx_String = []\n",
    "for n in range(len(TopKV)):\n",
    "    TopKV_Str.append(\" \".join(str(x) for x in TopKV[n]))\n",
    "    Idx_String.append(\" \".join(str(x) for x in indices[n]))\n",
    "\n",
    "header = [\"sign num\", \"softmax probabilities\", \"indices\"]\n",
    "table_Data = []\n",
    "table_Data.extend([[i+1 for i in range(number_Signs)],TopKV_Str,Idx_String])\n",
    "print_Table(header,table_Data)"
   ]
  },
  {
   "cell_type": "markdown",
   "metadata": {},
   "source": [
    "### Project Writeup\n",
    "\n",
    "Once you have completed the code implementation, document your results in a project writeup using this [template](https://github.com/udacity/CarND-Traffic-Sign-Classifier-Project/blob/master/writeup_template.md) as a guide. The writeup can be in a markdown or pdf file. "
   ]
  },
  {
   "cell_type": "markdown",
   "metadata": {},
   "source": [
    "> **Note**: Once you have completed all of the code implementations and successfully answered each question above, you may finalize your work by exporting the iPython Notebook as an HTML document. You can do this by using the menu above and navigating to  \\n\",\n",
    "    \"**File -> Download as -> HTML (.html)**. Include the finished document along with this notebook as your submission."
   ]
  },
  {
   "cell_type": "markdown",
   "metadata": {},
   "source": [
    "---\n",
    "\n",
    "## Step 4 (Optional): Visualize the Neural Network's State with Test Images\n",
    "\n",
    " This Section is not required to complete but acts as an additional excersise for understaning the output of a neural network's weights. While neural networks can be a great learning device they are often referred to as a black box. We can understand what the weights of a neural network look like better by plotting their feature maps. After successfully training your neural network you can see what it's feature maps look like by plotting the output of the network's weight layers in response to a test stimuli image. From these plotted feature maps, it's possible to see what characteristics of an image the network finds interesting. For a sign, maybe the inner network feature maps react with high activation to the sign's boundary outline or to the contrast in the sign's painted symbol.\n",
    "\n",
    " Provided for you below is the function code that allows you to get the visualization output of any tensorflow weight layer you want. The inputs to the function should be a stimuli image, one used during training or a new one you provided, and then the tensorflow variable name that represents the layer's state during the training process, for instance if you wanted to see what the [LeNet lab's](https://classroom.udacity.com/nanodegrees/nd013/parts/fbf77062-5703-404e-b60c-95b78b2f3f9e/modules/6df7ae49-c61c-4bb2-a23e-6527e69209ec/lessons/601ae704-1035-4287-8b11-e2c2716217ad/concepts/d4aca031-508f-4e0b-b493-e7b706120f81) feature maps looked like for it's second convolutional layer you could enter conv2 as the tf_activation variable.\n",
    "\n",
    "For an example of what feature map outputs look like, check out NVIDIA's results in their paper [End-to-End Deep Learning for Self-Driving Cars](https://devblogs.nvidia.com/parallelforall/deep-learning-self-driving-cars/) in the section Visualization of internal CNN State. NVIDIA was able to show that their network's inner weights had high activations to road boundary lines by comparing feature maps from an image with a clear path to one without. Try experimenting with a similar test to show that your trained network's weights are looking for interesting features, whether it's looking at differences in feature maps from images with or without a sign, or even what feature maps look like in a trained network vs a completely untrained one on the same sign image.\n",
    "\n",
    "<figure>\n",
    " <img src=\"visualize_cnn.png\" width=\"380\" alt=\"Combined Image\" />\n",
    " <figcaption>\n",
    " <p></p> \n",
    " <p style=\"text-align: center;\"> Your output should look something like this (above)</p> \n",
    " </figcaption>\n",
    "</figure>\n",
    " <p></p> \n"
   ]
  },
  {
   "cell_type": "code",
   "execution_count": 506,
   "metadata": {
    "collapsed": true
   },
   "outputs": [],
   "source": [
    "### Visualize your network's feature maps here.\n",
    "### Feel free to use as many code cells as needed.\n",
    "\n",
    "# image_input: the test image being fed into the network to produce the feature maps\n",
    "# tf_activation: should be a tf variable name used during your training procedure that represents the calculated state of a specific weight layer\n",
    "# activation_min/max: can be used to view the activation contrast in more detail, by default matplot sets min and max to the actual min and max values of the output\n",
    "# plt_num: used to plot out multiple different weight feature map sets on the same block, just extend the plt number for each new feature map entry\n",
    "\n",
    "def outputFeatureMap(image_input, tf_activation, activation_min=-1, activation_max=-1 ,plt_num=1):\n",
    "    # Here make sure to preprocess your image_input in a way your network expects\n",
    "    # with size, normalization, ect if needed\n",
    "    # image_input =\n",
    "    # Note: x should be the same name as your network's tensorflow data placeholder variable\n",
    "    # If you get an error tf_activation is not defined it may be having trouble accessing the variable from inside a function\n",
    "    activation = tf_activation.eval(session=sess,feed_dict={x : image_input})\n",
    "    featuremaps = activation.shape[3]\n",
    "    plt.figure(plt_num, figsize=(15,15))\n",
    "    for featuremap in range(featuremaps):\n",
    "        plt.subplot(6,8, featuremap+1) # sets the number of feature maps to show on each row and column\n",
    "        plt.title('FeatureMap ' + str(featuremap)) # displays the feature map number\n",
    "        if activation_min != -1 & activation_max != -1:\n",
    "            plt.imshow(activation[0,:,:, featuremap], interpolation=\"nearest\", vmin =activation_min, vmax=activation_max, cmap=\"gray\")\n",
    "        elif activation_max != -1:\n",
    "            plt.imshow(activation[0,:,:, featuremap], interpolation=\"nearest\", vmax=activation_max, cmap=\"gray\")\n",
    "        elif activation_min !=-1:\n",
    "            plt.imshow(activation[0,:,:, featuremap], interpolation=\"nearest\", vmin=activation_min, cmap=\"gray\")\n",
    "        else:\n",
    "            plt.imshow(activation[0,:,:, featuremap], interpolation=\"nearest\", cmap=\"gray\")"
   ]
  },
  {
   "cell_type": "code",
   "execution_count": null,
   "metadata": {
    "collapsed": true
   },
   "outputs": [],
   "source": []
  }
 ],
 "metadata": {
  "anaconda-cloud": {},
  "gist": {
   "data": {
    "description": "Desktop/CarND_projects/CarND-Traffic-Sign-Classifier-Project/Traffic_Sign_Classifier.ipynb",
    "public": false
   },
   "id": ""
  },
  "kernelspec": {
   "display_name": "Python 3",
   "language": "python",
   "name": "python3"
  },
  "language_info": {
   "codemirror_mode": {
    "name": "ipython",
    "version": 3
   },
   "file_extension": ".py",
   "mimetype": "text/x-python",
   "name": "python",
   "nbconvert_exporter": "python",
   "pygments_lexer": "ipython3",
   "version": "3.6.1"
  }
 },
 "nbformat": 4,
 "nbformat_minor": 1
}
